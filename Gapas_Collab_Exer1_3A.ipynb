{
  "nbformat": 4,
  "nbformat_minor": 0,
  "metadata": {
    "colab": {
      "provenance": []
    },
    "kernelspec": {
      "name": "python3",
      "display_name": "Python 3"
    },
    "language_info": {
      "name": "python"
    }
  },
  "cells": [
    {
      "cell_type": "markdown",
      "source": [
        "**CREATING AND TESTING A NON-DETERMINISTIC FINITE AUTOMATA(NFA) IN PYTHON USING AUTOMATA-LIB**\n",
        "\n",
        "---\n",
        "\n"
      ],
      "metadata": {
        "id": "uBtJkndDwvEk"
      }
    },
    {
      "cell_type": "markdown",
      "source": [
        "**1. Install the latest version of automata library**"
      ],
      "metadata": {
        "id": "sFdz82zExQ07"
      }
    },
    {
      "cell_type": "code",
      "source": [
        "pip install automata-lib"
      ],
      "metadata": {
        "colab": {
          "base_uri": "https://localhost:8080/"
        },
        "id": "O8fRlRs0wywT",
        "outputId": "bd83ef6c-a423-4e55-e40c-9a34a5df0554"
      },
      "execution_count": null,
      "outputs": [
        {
          "output_type": "stream",
          "name": "stdout",
          "text": [
            "Collecting automata-lib\n",
            "  Downloading automata_lib-8.1.0-py3-none-any.whl (106 kB)\n",
            "\u001b[2K     \u001b[90m━━━━━━━━━━━━━━━━━━━━━━━━━━━━━━━━━━━━━━━━\u001b[0m \u001b[32m106.5/106.5 kB\u001b[0m \u001b[31m1.6 MB/s\u001b[0m eta \u001b[36m0:00:00\u001b[0m\n",
            "\u001b[?25hRequirement already satisfied: networkx>=2.6.2 in /usr/local/lib/python3.10/dist-packages (from automata-lib) (3.2.1)\n",
            "Requirement already satisfied: frozendict>=2.3.4 in /usr/local/lib/python3.10/dist-packages (from automata-lib) (2.3.10)\n",
            "Requirement already satisfied: typing-extensions>=4.5.0 in /usr/local/lib/python3.10/dist-packages (from automata-lib) (4.5.0)\n",
            "Collecting cached-method>=0.1.0 (from automata-lib)\n",
            "  Downloading cached_method-0.1.0-py3-none-any.whl (4.2 kB)\n",
            "Installing collected packages: cached-method, automata-lib\n",
            "Successfully installed automata-lib-8.1.0 cached-method-0.1.0\n"
          ]
        }
      ]
    },
    {
      "cell_type": "markdown",
      "source": [
        "**2. Import the DFA class from the autmata.fa.dfa module**"
      ],
      "metadata": {
        "id": "vOadRjNbxlf-"
      }
    },
    {
      "cell_type": "code",
      "source": [
        "from automata.fa.nfa import NFA"
      ],
      "metadata": {
        "id": "bsiRg46HyNJO"
      },
      "execution_count": null,
      "outputs": []
    },
    {
      "cell_type": "markdown",
      "source": [
        "**3. Define the DFA with its states.**\n",
        "\n",
        "\n",
        "*   **states:**\n",
        "*   **Linput symbols**\n",
        "*   **transitions**\n",
        "*   **initials states**\n",
        "*  **final states**\n",
        "\n",
        "\n",
        "\n"
      ],
      "metadata": {
        "id": "jBKztRoiydYp"
      }
    },
    {
      "cell_type": "code",
      "source": [
        "nfa_example= NFA(   states = {'q0','q1','q2'},\n",
        "    input_symbols = {'0','1'},\n",
        "    transitions={\n",
        "        'q0':{'0':{'q0','q1'}},\n",
        "        'q1':{'1':{'q2'}},\n",
        "        'q2':{},\n",
        "    },\n",
        "    initial_state='q0',\n",
        "    final_states={'q0','q2'})"
      ],
      "metadata": {
        "id": "_Hh3PGR6za_a"
      },
      "execution_count": null,
      "outputs": []
    },
    {
      "cell_type": "markdown",
      "source": [
        "**4. Define a functions is_accepted to check if a given input string is accepted by the DFA**"
      ],
      "metadata": {
        "id": "-ZKooGN02PZs"
      }
    },
    {
      "cell_type": "code",
      "source": [
        "def is_accepted_example(input_str):\n",
        "  return nfa_example.accepts_input(input_str)"
      ],
      "metadata": {
        "id": "BQz5Htp52eOB"
      },
      "execution_count": null,
      "outputs": []
    },
    {
      "cell_type": "markdown",
      "source": [
        "**5. Test the DFA with a list of strings.**"
      ],
      "metadata": {
        "id": "hvdJCJ2F3Agv"
      }
    },
    {
      "cell_type": "code",
      "source": [
        "test_strings = {'010', '1001', '001', '111', '0101'}\n",
        "\n",
        "for test_str in test_strings:\n",
        "    if is_accepted_example(test_str):\n",
        "        print(f'String \"{test_str}\" is accepted.')\n",
        "    else:\n",
        "        print(f'String \"{test_str}\" is not accepted.')\n"
      ],
      "metadata": {
        "colab": {
          "base_uri": "https://localhost:8080/"
        },
        "id": "yIyJABS83HVx",
        "outputId": "63b57cbe-7e60-434e-a620-de20d08ab27b"
      },
      "execution_count": null,
      "outputs": [
        {
          "output_type": "stream",
          "name": "stdout",
          "text": [
            "String \"010\" is not accepted.\n",
            "String \"001\" is accepted.\n",
            "String \"111\" is not accepted.\n",
            "String \"1001\" is not accepted.\n",
            "String \"0101\" is not accepted.\n"
          ]
        }
      ]
    }
  ]
}