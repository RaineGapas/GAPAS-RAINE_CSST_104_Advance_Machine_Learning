{
  "nbformat": 4,
  "nbformat_minor": 0,
  "metadata": {
    "colab": {
      "provenance": []
    },
    "kernelspec": {
      "name": "python3",
      "display_name": "Python 3"
    },
    "language_info": {
      "name": "python"
    }
  },
  "cells": [
    {
      "cell_type": "markdown",
      "source": [
        "**CREATING AND TESTING A NON-DETERMINISTIC FINITE AUTOMATA(NFA) IN PYTHON USING AUTOMATA-LIB**\n",
        "\n",
        "---\n",
        "\n"
      ],
      "metadata": {
        "id": "uBtJkndDwvEk"
      }
    },
    {
      "cell_type": "markdown",
      "source": [
        "![image.png](data:image/png;base64,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)"
      ],
      "metadata": {
        "id": "ub5miAtXfB2Q"
      }
    },
    {
      "cell_type": "markdown",
      "source": [
        "**1. Install the latest version of automata library**"
      ],
      "metadata": {
        "id": "sFdz82zExQ07"
      }
    },
    {
      "cell_type": "code",
      "source": [
        "pip install automata-lib"
      ],
      "metadata": {
        "colab": {
          "base_uri": "https://localhost:8080/"
        },
        "id": "O8fRlRs0wywT",
        "outputId": "cd57ea38-1bf5-408d-eab8-64949d0e3b7e"
      },
      "execution_count": null,
      "outputs": [
        {
          "output_type": "stream",
          "name": "stdout",
          "text": [
            "Requirement already satisfied: automata-lib in /usr/local/lib/python3.10/dist-packages (8.1.0)\n",
            "Requirement already satisfied: networkx>=2.6.2 in /usr/local/lib/python3.10/dist-packages (from automata-lib) (3.2.1)\n",
            "Requirement already satisfied: frozendict>=2.3.4 in /usr/local/lib/python3.10/dist-packages (from automata-lib) (2.3.10)\n",
            "Requirement already satisfied: typing-extensions>=4.5.0 in /usr/local/lib/python3.10/dist-packages (from automata-lib) (4.5.0)\n",
            "Requirement already satisfied: cached-method>=0.1.0 in /usr/local/lib/python3.10/dist-packages (from automata-lib) (0.1.0)\n"
          ]
        }
      ]
    },
    {
      "cell_type": "markdown",
      "source": [
        "**2. Import the DFA class from the autmata.fa.dfa module**"
      ],
      "metadata": {
        "id": "vOadRjNbxlf-"
      }
    },
    {
      "cell_type": "code",
      "source": [
        "from automata.fa.nfa import NFA"
      ],
      "metadata": {
        "id": "bsiRg46HyNJO"
      },
      "execution_count": null,
      "outputs": []
    },
    {
      "cell_type": "markdown",
      "source": [
        "**3. Define the DFA with its states.**\n",
        "\n",
        "\n",
        "*   **states:**\n",
        "*   **input symbols**\n",
        "*   **transitions**\n",
        "*   **initials states**\n",
        "*  **final states**\n",
        "\n",
        "\n",
        "\n"
      ],
      "metadata": {
        "id": "jBKztRoiydYp"
      }
    },
    {
      "cell_type": "code",
      "source": [
        "from automata.fa.nfa import NFA\n",
        "\n",
        "nfa_example = NFA(\n",
        "    states={'q1', 'q2'},\n",
        "    input_symbols={'0', '1'},\n",
        "    transitions={\n",
        "        'q1': {'0': {'q1'}, '1': {'q2'}},\n",
        "        'q2': {'0': {'q2'}, '1': {'q1'}},\n",
        "    },\n",
        "    initial_state='q1',\n",
        "    final_states={'q2'}\n",
        ")\n"
      ],
      "metadata": {
        "id": "_Hh3PGR6za_a"
      },
      "execution_count": null,
      "outputs": []
    },
    {
      "cell_type": "markdown",
      "source": [
        "**4. Define a functions is_accepted to check if a given input string is accepted by the DFA**"
      ],
      "metadata": {
        "id": "-ZKooGN02PZs"
      }
    },
    {
      "cell_type": "code",
      "source": [
        "def is_accepted_example(input_str):\n",
        "  return nfa_example.accepts_input(input_str)"
      ],
      "metadata": {
        "id": "BQz5Htp52eOB"
      },
      "execution_count": null,
      "outputs": []
    },
    {
      "cell_type": "markdown",
      "source": [
        "**5. Test the DFA with a list of strings.**"
      ],
      "metadata": {
        "id": "hvdJCJ2F3Agv"
      }
    },
    {
      "cell_type": "code",
      "source": [
        "test_strings = {'0010', '1110', '001', '111', '0101'}\n",
        "\n",
        "for test_str in test_strings:\n",
        "    if is_accepted_example(test_str):\n",
        "        print(f'String \"{test_str}\" is accepted.')\n",
        "    else:\n",
        "        print(f'String \"{test_str}\" is not accepted.')\n"
      ],
      "metadata": {
        "colab": {
          "base_uri": "https://localhost:8080/"
        },
        "id": "yIyJABS83HVx",
        "outputId": "06ee5886-c75d-49a8-9b93-4aad4c643810"
      },
      "execution_count": null,
      "outputs": [
        {
          "output_type": "stream",
          "name": "stdout",
          "text": [
            "String \"0101\" is not accepted.\n",
            "String \"0010\" is accepted.\n",
            "String \"1110\" is accepted.\n",
            "String \"111\" is accepted.\n",
            "String \"001\" is accepted.\n"
          ]
        }
      ]
    }
  ]
}